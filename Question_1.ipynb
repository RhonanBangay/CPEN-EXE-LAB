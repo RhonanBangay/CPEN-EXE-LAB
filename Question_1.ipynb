{
  "nbformat": 4,
  "nbformat_minor": 0,
  "metadata": {
    "colab": {
      "provenance": [],
      "authorship_tag": "ABX9TyO87uqvJoGyzpBEVQcA+PQZ",
      "include_colab_link": true
    },
    "kernelspec": {
      "name": "python3",
      "display_name": "Python 3"
    },
    "language_info": {
      "name": "python"
    }
  },
  "cells": [
    {
      "cell_type": "markdown",
      "metadata": {
        "id": "view-in-github",
        "colab_type": "text"
      },
      "source": [
        "<a href=\"https://colab.research.google.com/github/RhonanBangay/CPEN-EXE-LAB/blob/main/Question_1.ipynb\" target=\"_parent\"><img src=\"https://colab.research.google.com/assets/colab-badge.svg\" alt=\"Open In Colab\"/></a>"
      ]
    },
    {
      "cell_type": "code",
      "execution_count": 33,
      "metadata": {
        "colab": {
          "base_uri": "https://localhost:8080/"
        },
        "id": "GBgjK8vI3Ek-",
        "outputId": "a2018e92-213a-40f1-829e-9c864e6875ec"
      },
      "outputs": [
        {
          "output_type": "stream",
          "name": "stdout",
          "text": [
            "dict_keys(['data', 'target', 'frame', 'target_names', 'DESCR', 'feature_names', 'filename', 'data_module'])\n"
          ]
        }
      ],
      "source": [
        "import pandas as pd\n",
        "import numpy as np\n",
        "from sklearn.metrics import classification_report, confusion_matrix\n",
        "from sklearn.datasets import load_breast_cancer\n",
        "from sklearn.svm import SVR\n",
        "  \n",
        "can = load_breast_cancer()\n",
        "  \n",
        "# The data set is presented in a dictionary form:\n",
        "print(can.keys())"
      ]
    },
    {
      "cell_type": "code",
      "source": [
        "d_data = pd.DataFrame(can['data'],\n",
        "                       columns = can['feature_names'])\n",
        "  \n",
        "# cancer column is our target\n",
        "df_target = pd.DataFrame(can['target'], \n",
        "                     columns =['Can'])\n",
        "  \n",
        "print(\"Feature Variables: \")\n",
        "print(d_data.info())"
      ],
      "metadata": {
        "colab": {
          "base_uri": "https://localhost:8080/"
        },
        "id": "JaYblcLH3Nj6",
        "outputId": "19ad1284-50c3-43b7-ab1b-ead22a48b059"
      },
      "execution_count": 34,
      "outputs": [
        {
          "output_type": "stream",
          "name": "stdout",
          "text": [
            "Feature Variables: \n",
            "<class 'pandas.core.frame.DataFrame'>\n",
            "RangeIndex: 569 entries, 0 to 568\n",
            "Data columns (total 30 columns):\n",
            " #   Column                   Non-Null Count  Dtype  \n",
            "---  ------                   --------------  -----  \n",
            " 0   mean radius              569 non-null    float64\n",
            " 1   mean texture             569 non-null    float64\n",
            " 2   mean perimeter           569 non-null    float64\n",
            " 3   mean area                569 non-null    float64\n",
            " 4   mean smoothness          569 non-null    float64\n",
            " 5   mean compactness         569 non-null    float64\n",
            " 6   mean concavity           569 non-null    float64\n",
            " 7   mean concave points      569 non-null    float64\n",
            " 8   mean symmetry            569 non-null    float64\n",
            " 9   mean fractal dimension   569 non-null    float64\n",
            " 10  radius error             569 non-null    float64\n",
            " 11  texture error            569 non-null    float64\n",
            " 12  perimeter error          569 non-null    float64\n",
            " 13  area error               569 non-null    float64\n",
            " 14  smoothness error         569 non-null    float64\n",
            " 15  compactness error        569 non-null    float64\n",
            " 16  concavity error          569 non-null    float64\n",
            " 17  concave points error     569 non-null    float64\n",
            " 18  symmetry error           569 non-null    float64\n",
            " 19  fractal dimension error  569 non-null    float64\n",
            " 20  worst radius             569 non-null    float64\n",
            " 21  worst texture            569 non-null    float64\n",
            " 22  worst perimeter          569 non-null    float64\n",
            " 23  worst area               569 non-null    float64\n",
            " 24  worst smoothness         569 non-null    float64\n",
            " 25  worst compactness        569 non-null    float64\n",
            " 26  worst concavity          569 non-null    float64\n",
            " 27  worst concave points     569 non-null    float64\n",
            " 28  worst symmetry           569 non-null    float64\n",
            " 29  worst fractal dimension  569 non-null    float64\n",
            "dtypes: float64(30)\n",
            "memory usage: 133.5 KB\n",
            "None\n"
          ]
        }
      ]
    },
    {
      "cell_type": "code",
      "source": [
        "\n",
        "print(\"Dataframe: \")\n",
        "print(d_data.head())"
      ],
      "metadata": {
        "colab": {
          "base_uri": "https://localhost:8080/"
        },
        "id": "0ejRJrIW3R9p",
        "outputId": "84f410e7-e82c-473c-e4b8-52af69667e4a"
      },
      "execution_count": 53,
      "outputs": [
        {
          "output_type": "stream",
          "name": "stdout",
          "text": [
            "Dataframe: \n",
            "   mean radius  mean texture  mean perimeter  mean area  mean smoothness  \\\n",
            "0        17.99         10.38          122.80     1001.0          0.11840   \n",
            "1        20.57         17.77          132.90     1326.0          0.08474   \n",
            "2        19.69         21.25          130.00     1203.0          0.10960   \n",
            "3        11.42         20.38           77.58      386.1          0.14250   \n",
            "4        20.29         14.34          135.10     1297.0          0.10030   \n",
            "\n",
            "   mean compactness  mean concavity  mean concave points  mean symmetry  \\\n",
            "0           0.27760          0.3001              0.14710         0.2419   \n",
            "1           0.07864          0.0869              0.07017         0.1812   \n",
            "2           0.15990          0.1974              0.12790         0.2069   \n",
            "3           0.28390          0.2414              0.10520         0.2597   \n",
            "4           0.13280          0.1980              0.10430         0.1809   \n",
            "\n",
            "   mean fractal dimension  ...  worst radius  worst texture  worst perimeter  \\\n",
            "0                 0.07871  ...         25.38          17.33           184.60   \n",
            "1                 0.05667  ...         24.99          23.41           158.80   \n",
            "2                 0.05999  ...         23.57          25.53           152.50   \n",
            "3                 0.09744  ...         14.91          26.50            98.87   \n",
            "4                 0.05883  ...         22.54          16.67           152.20   \n",
            "\n",
            "   worst area  worst smoothness  worst compactness  worst concavity  \\\n",
            "0      2019.0            0.1622             0.6656           0.7119   \n",
            "1      1956.0            0.1238             0.1866           0.2416   \n",
            "2      1709.0            0.1444             0.4245           0.4504   \n",
            "3       567.7            0.2098             0.8663           0.6869   \n",
            "4      1575.0            0.1374             0.2050           0.4000   \n",
            "\n",
            "   worst concave points  worst symmetry  worst fractal dimension  \n",
            "0                0.2654          0.4601                  0.11890  \n",
            "1                0.1860          0.2750                  0.08902  \n",
            "2                0.2430          0.3613                  0.08758  \n",
            "3                0.2575          0.6638                  0.17300  \n",
            "4                0.1625          0.2364                  0.07678  \n",
            "\n",
            "[5 rows x 30 columns]\n"
          ]
        }
      ]
    },
    {
      "cell_type": "code",
      "source": [
        "from sklearn.model_selection import train_test_split\n",
        "  \n",
        "X_train, X_test, y_train, y_test = train_test_split(\n",
        "                        d_data, np.ravel(df_target),\n",
        "                test_size = 0.30, random_state = 101)"
      ],
      "metadata": {
        "id": "P-O4p0Fx3Wv4"
      },
      "execution_count": 36,
      "outputs": []
    },
    {
      "cell_type": "code",
      "source": [
        "\n",
        "# train the model on train set\n",
        "model = SVC()\n",
        "model.fit(X_train, y_train)\n",
        "  \n",
        "# print prediction results\n",
        "predictions = model.predict(X_test)\n",
        "print(classification_report(y_test, predictions))"
      ],
      "metadata": {
        "colab": {
          "base_uri": "https://localhost:8080/"
        },
        "id": "Ie7ArF3v3Zle",
        "outputId": "b476453b-52bd-43ab-d446-e56fa2665b53"
      },
      "execution_count": 39,
      "outputs": [
        {
          "output_type": "stream",
          "name": "stdout",
          "text": [
            "              precision    recall  f1-score   support\n",
            "\n",
            "           0       0.95      0.85      0.90        66\n",
            "           1       0.91      0.97      0.94       105\n",
            "\n",
            "    accuracy                           0.92       171\n",
            "   macro avg       0.93      0.91      0.92       171\n",
            "weighted avg       0.93      0.92      0.92       171\n",
            "\n"
          ]
        }
      ]
    },
    {
      "cell_type": "code",
      "source": [
        "\n",
        "from sklearn.model_selection import GridSearchCV\n",
        "from sklearn.svm import LinearSVR\n",
        "from sklearn.svm import SVR\n",
        "  \n",
        "# defining parameter range\n",
        "param_grid = {'kernel': ['rbf'], 'C': [1.0, 2.0, 10, 20],\n",
        "              'kernel': ['linear'], 'C': [1.0, 2.0, 10, 20], \n",
        "              'gamma': [0.01, 0.02, 0.1, 0.2, 1.0, 2.0],} \n",
        "\n",
        "  \n",
        "grid = GridSearchCV(SVR(), param_grid,cv=3 ,refit = True, verbose = 3)\n",
        "  \n",
        "# fitting the model for grid search\n",
        "grid.fit(X_train, y_train)"
      ],
      "metadata": {
        "colab": {
          "base_uri": "https://localhost:8080/",
          "height": 1000
        },
        "id": "BJfXu6C53b3D",
        "outputId": "f8645701-7e67-49e8-cfb5-828195eab3b3"
      },
      "execution_count": 54,
      "outputs": [
        {
          "output_type": "stream",
          "name": "stdout",
          "text": [
            "Fitting 3 folds for each of 24 candidates, totalling 72 fits\n",
            "[CV 1/3] END ..C=1.0, gamma=0.01, kernel=linear;, score=0.037 total time=  39.5s\n",
            "[CV 2/3] END .C=1.0, gamma=0.01, kernel=linear;, score=-0.503 total time=  36.3s\n",
            "[CV 3/3] END ..C=1.0, gamma=0.01, kernel=linear;, score=0.022 total time= 1.5min\n",
            "[CV 1/3] END ..C=1.0, gamma=0.02, kernel=linear;, score=0.037 total time=  39.7s\n",
            "[CV 2/3] END .C=1.0, gamma=0.02, kernel=linear;, score=-0.503 total time=  36.4s\n",
            "[CV 3/3] END ..C=1.0, gamma=0.02, kernel=linear;, score=0.022 total time= 1.5min\n",
            "[CV 1/3] END ...C=1.0, gamma=0.1, kernel=linear;, score=0.037 total time=  39.6s\n",
            "[CV 2/3] END ..C=1.0, gamma=0.1, kernel=linear;, score=-0.503 total time=  34.7s\n",
            "[CV 3/3] END ...C=1.0, gamma=0.1, kernel=linear;, score=0.022 total time= 1.5min\n",
            "[CV 1/3] END ...C=1.0, gamma=0.2, kernel=linear;, score=0.037 total time=  39.6s\n",
            "[CV 2/3] END ..C=1.0, gamma=0.2, kernel=linear;, score=-0.503 total time=  36.4s\n",
            "[CV 3/3] END ...C=1.0, gamma=0.2, kernel=linear;, score=0.022 total time= 1.5min\n",
            "[CV 1/3] END ...C=1.0, gamma=1.0, kernel=linear;, score=0.037 total time=  39.6s\n",
            "[CV 2/3] END ..C=1.0, gamma=1.0, kernel=linear;, score=-0.503 total time=  35.9s\n",
            "[CV 3/3] END ...C=1.0, gamma=1.0, kernel=linear;, score=0.022 total time= 1.4min\n",
            "[CV 1/3] END ...C=1.0, gamma=2.0, kernel=linear;, score=0.037 total time=  38.0s\n",
            "[CV 2/3] END ..C=1.0, gamma=2.0, kernel=linear;, score=-0.503 total time=  34.6s\n",
            "[CV 3/3] END ...C=1.0, gamma=2.0, kernel=linear;, score=0.022 total time= 1.4min\n",
            "[CV 1/3] END .C=2.0, gamma=0.01, kernel=linear;, score=-0.384 total time= 2.0min\n",
            "[CV 2/3] END .C=2.0, gamma=0.01, kernel=linear;, score=-2.774 total time= 1.3min\n",
            "[CV 3/3] END ..C=2.0, gamma=0.01, kernel=linear;, score=0.396 total time=  56.3s\n",
            "[CV 1/3] END .C=2.0, gamma=0.02, kernel=linear;, score=-0.384 total time= 2.0min\n",
            "[CV 2/3] END .C=2.0, gamma=0.02, kernel=linear;, score=-2.774 total time= 1.3min\n",
            "[CV 3/3] END ..C=2.0, gamma=0.02, kernel=linear;, score=0.396 total time=  57.4s\n",
            "[CV 1/3] END ..C=2.0, gamma=0.1, kernel=linear;, score=-0.384 total time= 2.0min\n",
            "[CV 2/3] END ..C=2.0, gamma=0.1, kernel=linear;, score=-2.774 total time= 1.3min\n",
            "[CV 3/3] END ...C=2.0, gamma=0.1, kernel=linear;, score=0.396 total time=  57.4s\n",
            "[CV 1/3] END ..C=2.0, gamma=0.2, kernel=linear;, score=-0.384 total time= 2.0min\n",
            "[CV 2/3] END ..C=2.0, gamma=0.2, kernel=linear;, score=-2.774 total time= 1.3min\n",
            "[CV 3/3] END ...C=2.0, gamma=0.2, kernel=linear;, score=0.396 total time=  56.3s\n",
            "[CV 1/3] END ..C=2.0, gamma=1.0, kernel=linear;, score=-0.384 total time= 2.0min\n",
            "[CV 2/3] END ..C=2.0, gamma=1.0, kernel=linear;, score=-2.774 total time= 1.3min\n",
            "[CV 3/3] END ...C=2.0, gamma=1.0, kernel=linear;, score=0.396 total time=  57.2s\n",
            "[CV 1/3] END ..C=2.0, gamma=2.0, kernel=linear;, score=-0.384 total time= 2.0min\n",
            "[CV 2/3] END ..C=2.0, gamma=2.0, kernel=linear;, score=-2.774 total time= 1.3min\n",
            "[CV 3/3] END ...C=2.0, gamma=2.0, kernel=linear;, score=0.396 total time=  57.2s\n",
            "[CV 1/3] END .C=10, gamma=0.01, kernel=linear;, score=-39.190 total time= 1.3min\n",
            "[CV 2/3] END .C=10, gamma=0.01, kernel=linear;, score=-42.232 total time=  47.7s\n",
            "[CV 3/3] END .C=10, gamma=0.01, kernel=linear;, score=-26.741 total time=  56.6s\n",
            "[CV 1/3] END .C=10, gamma=0.02, kernel=linear;, score=-39.190 total time= 1.3min\n",
            "[CV 2/3] END .C=10, gamma=0.02, kernel=linear;, score=-42.232 total time=  47.8s\n",
            "[CV 3/3] END .C=10, gamma=0.02, kernel=linear;, score=-26.741 total time=  55.8s\n",
            "[CV 1/3] END ..C=10, gamma=0.1, kernel=linear;, score=-39.190 total time= 1.3min\n",
            "[CV 2/3] END ..C=10, gamma=0.1, kernel=linear;, score=-42.232 total time=  47.8s\n",
            "[CV 3/3] END ..C=10, gamma=0.1, kernel=linear;, score=-26.741 total time=  55.5s\n",
            "[CV 1/3] END ..C=10, gamma=0.2, kernel=linear;, score=-39.190 total time= 1.3min\n",
            "[CV 2/3] END ..C=10, gamma=0.2, kernel=linear;, score=-42.232 total time=  47.6s\n",
            "[CV 3/3] END ..C=10, gamma=0.2, kernel=linear;, score=-26.741 total time=  56.5s\n",
            "[CV 1/3] END ..C=10, gamma=1.0, kernel=linear;, score=-39.190 total time= 1.3min\n",
            "[CV 2/3] END ..C=10, gamma=1.0, kernel=linear;, score=-42.232 total time=  47.7s\n",
            "[CV 3/3] END ..C=10, gamma=1.0, kernel=linear;, score=-26.741 total time=  56.9s\n",
            "[CV 1/3] END ..C=10, gamma=2.0, kernel=linear;, score=-39.190 total time= 1.3min\n",
            "[CV 2/3] END ..C=10, gamma=2.0, kernel=linear;, score=-42.232 total time=  46.7s\n",
            "[CV 3/3] END ..C=10, gamma=2.0, kernel=linear;, score=-26.741 total time=  56.7s\n",
            "[CV 1/3] END .C=20, gamma=0.01, kernel=linear;, score=-96.320 total time=  50.8s\n",
            "[CV 2/3] END C=20, gamma=0.01, kernel=linear;, score=-260.173 total time= 2.7min\n",
            "[CV 3/3] END .C=20, gamma=0.01, kernel=linear;, score=-75.240 total time= 1.0min\n",
            "[CV 1/3] END .C=20, gamma=0.02, kernel=linear;, score=-96.320 total time=  50.9s\n",
            "[CV 2/3] END C=20, gamma=0.02, kernel=linear;, score=-260.173 total time= 2.7min\n",
            "[CV 3/3] END .C=20, gamma=0.02, kernel=linear;, score=-75.240 total time= 1.0min\n",
            "[CV 1/3] END ..C=20, gamma=0.1, kernel=linear;, score=-96.320 total time=  50.8s\n",
            "[CV 2/3] END .C=20, gamma=0.1, kernel=linear;, score=-260.173 total time= 2.7min\n",
            "[CV 3/3] END ..C=20, gamma=0.1, kernel=linear;, score=-75.240 total time= 1.0min\n",
            "[CV 1/3] END ..C=20, gamma=0.2, kernel=linear;, score=-96.320 total time=  50.7s\n",
            "[CV 2/3] END .C=20, gamma=0.2, kernel=linear;, score=-260.173 total time= 2.7min\n",
            "[CV 3/3] END ..C=20, gamma=0.2, kernel=linear;, score=-75.240 total time= 1.0min\n",
            "[CV 1/3] END ..C=20, gamma=1.0, kernel=linear;, score=-96.320 total time=  50.9s\n",
            "[CV 2/3] END .C=20, gamma=1.0, kernel=linear;, score=-260.173 total time= 2.7min\n",
            "[CV 3/3] END ..C=20, gamma=1.0, kernel=linear;, score=-75.240 total time= 1.0min\n",
            "[CV 1/3] END ..C=20, gamma=2.0, kernel=linear;, score=-96.320 total time=  50.6s\n",
            "[CV 2/3] END .C=20, gamma=2.0, kernel=linear;, score=-260.173 total time= 2.7min\n",
            "[CV 3/3] END ..C=20, gamma=2.0, kernel=linear;, score=-75.240 total time= 1.0min\n"
          ]
        },
        {
          "output_type": "execute_result",
          "data": {
            "text/plain": [
              "GridSearchCV(cv=3, estimator=SVR(),\n",
              "             param_grid={'C': [1.0, 2.0, 10, 20],\n",
              "                         'gamma': [0.01, 0.02, 0.1, 0.2, 1.0, 2.0],\n",
              "                         'kernel': ['linear']},\n",
              "             verbose=3)"
            ],
            "text/html": [
              "<style>#sk-container-id-4 {color: black;background-color: white;}#sk-container-id-4 pre{padding: 0;}#sk-container-id-4 div.sk-toggleable {background-color: white;}#sk-container-id-4 label.sk-toggleable__label {cursor: pointer;display: block;width: 100%;margin-bottom: 0;padding: 0.3em;box-sizing: border-box;text-align: center;}#sk-container-id-4 label.sk-toggleable__label-arrow:before {content: \"▸\";float: left;margin-right: 0.25em;color: #696969;}#sk-container-id-4 label.sk-toggleable__label-arrow:hover:before {color: black;}#sk-container-id-4 div.sk-estimator:hover label.sk-toggleable__label-arrow:before {color: black;}#sk-container-id-4 div.sk-toggleable__content {max-height: 0;max-width: 0;overflow: hidden;text-align: left;background-color: #f0f8ff;}#sk-container-id-4 div.sk-toggleable__content pre {margin: 0.2em;color: black;border-radius: 0.25em;background-color: #f0f8ff;}#sk-container-id-4 input.sk-toggleable__control:checked~div.sk-toggleable__content {max-height: 200px;max-width: 100%;overflow: auto;}#sk-container-id-4 input.sk-toggleable__control:checked~label.sk-toggleable__label-arrow:before {content: \"▾\";}#sk-container-id-4 div.sk-estimator input.sk-toggleable__control:checked~label.sk-toggleable__label {background-color: #d4ebff;}#sk-container-id-4 div.sk-label input.sk-toggleable__control:checked~label.sk-toggleable__label {background-color: #d4ebff;}#sk-container-id-4 input.sk-hidden--visually {border: 0;clip: rect(1px 1px 1px 1px);clip: rect(1px, 1px, 1px, 1px);height: 1px;margin: -1px;overflow: hidden;padding: 0;position: absolute;width: 1px;}#sk-container-id-4 div.sk-estimator {font-family: monospace;background-color: #f0f8ff;border: 1px dotted black;border-radius: 0.25em;box-sizing: border-box;margin-bottom: 0.5em;}#sk-container-id-4 div.sk-estimator:hover {background-color: #d4ebff;}#sk-container-id-4 div.sk-parallel-item::after {content: \"\";width: 100%;border-bottom: 1px solid gray;flex-grow: 1;}#sk-container-id-4 div.sk-label:hover label.sk-toggleable__label {background-color: #d4ebff;}#sk-container-id-4 div.sk-serial::before {content: \"\";position: absolute;border-left: 1px solid gray;box-sizing: border-box;top: 0;bottom: 0;left: 50%;z-index: 0;}#sk-container-id-4 div.sk-serial {display: flex;flex-direction: column;align-items: center;background-color: white;padding-right: 0.2em;padding-left: 0.2em;position: relative;}#sk-container-id-4 div.sk-item {position: relative;z-index: 1;}#sk-container-id-4 div.sk-parallel {display: flex;align-items: stretch;justify-content: center;background-color: white;position: relative;}#sk-container-id-4 div.sk-item::before, #sk-container-id-4 div.sk-parallel-item::before {content: \"\";position: absolute;border-left: 1px solid gray;box-sizing: border-box;top: 0;bottom: 0;left: 50%;z-index: -1;}#sk-container-id-4 div.sk-parallel-item {display: flex;flex-direction: column;z-index: 1;position: relative;background-color: white;}#sk-container-id-4 div.sk-parallel-item:first-child::after {align-self: flex-end;width: 50%;}#sk-container-id-4 div.sk-parallel-item:last-child::after {align-self: flex-start;width: 50%;}#sk-container-id-4 div.sk-parallel-item:only-child::after {width: 0;}#sk-container-id-4 div.sk-dashed-wrapped {border: 1px dashed gray;margin: 0 0.4em 0.5em 0.4em;box-sizing: border-box;padding-bottom: 0.4em;background-color: white;}#sk-container-id-4 div.sk-label label {font-family: monospace;font-weight: bold;display: inline-block;line-height: 1.2em;}#sk-container-id-4 div.sk-label-container {text-align: center;}#sk-container-id-4 div.sk-container {/* jupyter's `normalize.less` sets `[hidden] { display: none; }` but bootstrap.min.css set `[hidden] { display: none !important; }` so we also need the `!important` here to be able to override the default hidden behavior on the sphinx rendered scikit-learn.org. See: https://github.com/scikit-learn/scikit-learn/issues/21755 */display: inline-block !important;position: relative;}#sk-container-id-4 div.sk-text-repr-fallback {display: none;}</style><div id=\"sk-container-id-4\" class=\"sk-top-container\"><div class=\"sk-text-repr-fallback\"><pre>GridSearchCV(cv=3, estimator=SVR(),\n",
              "             param_grid={&#x27;C&#x27;: [1.0, 2.0, 10, 20],\n",
              "                         &#x27;gamma&#x27;: [0.01, 0.02, 0.1, 0.2, 1.0, 2.0],\n",
              "                         &#x27;kernel&#x27;: [&#x27;linear&#x27;]},\n",
              "             verbose=3)</pre><b>In a Jupyter environment, please rerun this cell to show the HTML representation or trust the notebook. <br />On GitHub, the HTML representation is unable to render, please try loading this page with nbviewer.org.</b></div><div class=\"sk-container\" hidden><div class=\"sk-item sk-dashed-wrapped\"><div class=\"sk-label-container\"><div class=\"sk-label sk-toggleable\"><input class=\"sk-toggleable__control sk-hidden--visually\" id=\"sk-estimator-id-10\" type=\"checkbox\" ><label for=\"sk-estimator-id-10\" class=\"sk-toggleable__label sk-toggleable__label-arrow\">GridSearchCV</label><div class=\"sk-toggleable__content\"><pre>GridSearchCV(cv=3, estimator=SVR(),\n",
              "             param_grid={&#x27;C&#x27;: [1.0, 2.0, 10, 20],\n",
              "                         &#x27;gamma&#x27;: [0.01, 0.02, 0.1, 0.2, 1.0, 2.0],\n",
              "                         &#x27;kernel&#x27;: [&#x27;linear&#x27;]},\n",
              "             verbose=3)</pre></div></div></div><div class=\"sk-parallel\"><div class=\"sk-parallel-item\"><div class=\"sk-item\"><div class=\"sk-label-container\"><div class=\"sk-label sk-toggleable\"><input class=\"sk-toggleable__control sk-hidden--visually\" id=\"sk-estimator-id-11\" type=\"checkbox\" ><label for=\"sk-estimator-id-11\" class=\"sk-toggleable__label sk-toggleable__label-arrow\">estimator: SVR</label><div class=\"sk-toggleable__content\"><pre>SVR()</pre></div></div></div><div class=\"sk-serial\"><div class=\"sk-item\"><div class=\"sk-estimator sk-toggleable\"><input class=\"sk-toggleable__control sk-hidden--visually\" id=\"sk-estimator-id-12\" type=\"checkbox\" ><label for=\"sk-estimator-id-12\" class=\"sk-toggleable__label sk-toggleable__label-arrow\">SVR</label><div class=\"sk-toggleable__content\"><pre>SVR()</pre></div></div></div></div></div></div></div></div></div></div>"
            ]
          },
          "metadata": {},
          "execution_count": 54
        }
      ]
    },
    {
      "cell_type": "code",
      "source": [
        "# print best parameter after tuning\n",
        "print(grid.best_params_)"
      ],
      "metadata": {
        "colab": {
          "base_uri": "https://localhost:8080/"
        },
        "id": "wnZugbsz3fn-",
        "outputId": "edb75b6d-100b-4c7f-c019-ec62ce800324"
      },
      "execution_count": 55,
      "outputs": [
        {
          "output_type": "stream",
          "name": "stdout",
          "text": [
            "{'C': 1.0, 'gamma': 0.01, 'kernel': 'linear'}\n"
          ]
        }
      ]
    }
  ]
}